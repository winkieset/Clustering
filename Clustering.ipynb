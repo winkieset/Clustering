{
  "nbformat": 4,
  "nbformat_minor": 0,
  "metadata": {
    "colab": {
      "name": "1301184113_WinkieSetyono.ipynb",
      "provenance": []
    },
    "kernelspec": {
      "name": "python3",
      "display_name": "Python 3"
    },
    "language_info": {
      "name": "python"
    }
  },
  "cells": [
    {
      "cell_type": "code",
      "metadata": {
        "id": "HkXkzGFIYWzI"
      },
      "source": [
        "import pandas as pd\n",
        "import matplotlib.pyplot as plt\n",
        "import seaborn as sns\n",
        "import numpy as np"
      ],
      "execution_count": 267,
      "outputs": []
    },
    {
      "cell_type": "code",
      "metadata": {
        "colab": {
          "base_uri": "https://localhost:8080/",
          "height": 402
        },
        "id": "LPz2s9X8YbRE",
        "outputId": "117492f4-dcc4-4090-e76b-e963024106ba"
      },
      "source": [
        "df = pd.read_csv('kendaraan_train.csv')\n",
        "df"
      ],
      "execution_count": 268,
      "outputs": [
        {
          "output_type": "execute_result",
          "data": {
            "text/html": [
              "<div>\n",
              "<style scoped>\n",
              "    .dataframe tbody tr th:only-of-type {\n",
              "        vertical-align: middle;\n",
              "    }\n",
              "\n",
              "    .dataframe tbody tr th {\n",
              "        vertical-align: top;\n",
              "    }\n",
              "\n",
              "    .dataframe thead th {\n",
              "        text-align: right;\n",
              "    }\n",
              "</style>\n",
              "<table border=\"1\" class=\"dataframe\">\n",
              "  <thead>\n",
              "    <tr style=\"text-align: right;\">\n",
              "      <th></th>\n",
              "      <th>id</th>\n",
              "      <th>Jenis_Kelamin</th>\n",
              "      <th>Umur</th>\n",
              "      <th>SIM</th>\n",
              "      <th>Kode_Daerah</th>\n",
              "      <th>Sudah_Asuransi</th>\n",
              "      <th>Umur_Kendaraan</th>\n",
              "      <th>Kendaraan_Rusak</th>\n",
              "      <th>Premi</th>\n",
              "      <th>Kanal_Penjualan</th>\n",
              "      <th>Lama_Berlangganan</th>\n",
              "      <th>Tertarik</th>\n",
              "    </tr>\n",
              "  </thead>\n",
              "  <tbody>\n",
              "    <tr>\n",
              "      <th>0</th>\n",
              "      <td>1</td>\n",
              "      <td>Wanita</td>\n",
              "      <td>30.0</td>\n",
              "      <td>1.0</td>\n",
              "      <td>33.0</td>\n",
              "      <td>1.0</td>\n",
              "      <td>&lt; 1 Tahun</td>\n",
              "      <td>Tidak</td>\n",
              "      <td>28029.0</td>\n",
              "      <td>152.0</td>\n",
              "      <td>97.0</td>\n",
              "      <td>0</td>\n",
              "    </tr>\n",
              "    <tr>\n",
              "      <th>1</th>\n",
              "      <td>2</td>\n",
              "      <td>Pria</td>\n",
              "      <td>48.0</td>\n",
              "      <td>1.0</td>\n",
              "      <td>39.0</td>\n",
              "      <td>0.0</td>\n",
              "      <td>&gt; 2 Tahun</td>\n",
              "      <td>Pernah</td>\n",
              "      <td>25800.0</td>\n",
              "      <td>29.0</td>\n",
              "      <td>158.0</td>\n",
              "      <td>0</td>\n",
              "    </tr>\n",
              "    <tr>\n",
              "      <th>2</th>\n",
              "      <td>3</td>\n",
              "      <td>NaN</td>\n",
              "      <td>21.0</td>\n",
              "      <td>1.0</td>\n",
              "      <td>46.0</td>\n",
              "      <td>1.0</td>\n",
              "      <td>&lt; 1 Tahun</td>\n",
              "      <td>Tidak</td>\n",
              "      <td>32733.0</td>\n",
              "      <td>160.0</td>\n",
              "      <td>119.0</td>\n",
              "      <td>0</td>\n",
              "    </tr>\n",
              "    <tr>\n",
              "      <th>3</th>\n",
              "      <td>4</td>\n",
              "      <td>Wanita</td>\n",
              "      <td>58.0</td>\n",
              "      <td>1.0</td>\n",
              "      <td>48.0</td>\n",
              "      <td>0.0</td>\n",
              "      <td>1-2 Tahun</td>\n",
              "      <td>Tidak</td>\n",
              "      <td>2630.0</td>\n",
              "      <td>124.0</td>\n",
              "      <td>63.0</td>\n",
              "      <td>0</td>\n",
              "    </tr>\n",
              "    <tr>\n",
              "      <th>4</th>\n",
              "      <td>5</td>\n",
              "      <td>Pria</td>\n",
              "      <td>50.0</td>\n",
              "      <td>1.0</td>\n",
              "      <td>35.0</td>\n",
              "      <td>0.0</td>\n",
              "      <td>&gt; 2 Tahun</td>\n",
              "      <td>NaN</td>\n",
              "      <td>34857.0</td>\n",
              "      <td>88.0</td>\n",
              "      <td>194.0</td>\n",
              "      <td>0</td>\n",
              "    </tr>\n",
              "    <tr>\n",
              "      <th>...</th>\n",
              "      <td>...</td>\n",
              "      <td>...</td>\n",
              "      <td>...</td>\n",
              "      <td>...</td>\n",
              "      <td>...</td>\n",
              "      <td>...</td>\n",
              "      <td>...</td>\n",
              "      <td>...</td>\n",
              "      <td>...</td>\n",
              "      <td>...</td>\n",
              "      <td>...</td>\n",
              "      <td>...</td>\n",
              "    </tr>\n",
              "    <tr>\n",
              "      <th>285826</th>\n",
              "      <td>285827</td>\n",
              "      <td>Wanita</td>\n",
              "      <td>23.0</td>\n",
              "      <td>1.0</td>\n",
              "      <td>4.0</td>\n",
              "      <td>1.0</td>\n",
              "      <td>&lt; 1 Tahun</td>\n",
              "      <td>Tidak</td>\n",
              "      <td>25988.0</td>\n",
              "      <td>152.0</td>\n",
              "      <td>217.0</td>\n",
              "      <td>0</td>\n",
              "    </tr>\n",
              "    <tr>\n",
              "      <th>285827</th>\n",
              "      <td>285828</td>\n",
              "      <td>Wanita</td>\n",
              "      <td>21.0</td>\n",
              "      <td>1.0</td>\n",
              "      <td>46.0</td>\n",
              "      <td>1.0</td>\n",
              "      <td>&lt; 1 Tahun</td>\n",
              "      <td>Tidak</td>\n",
              "      <td>44686.0</td>\n",
              "      <td>152.0</td>\n",
              "      <td>50.0</td>\n",
              "      <td>0</td>\n",
              "    </tr>\n",
              "    <tr>\n",
              "      <th>285828</th>\n",
              "      <td>285829</td>\n",
              "      <td>Wanita</td>\n",
              "      <td>23.0</td>\n",
              "      <td>1.0</td>\n",
              "      <td>50.0</td>\n",
              "      <td>1.0</td>\n",
              "      <td>&lt; 1 Tahun</td>\n",
              "      <td>Tidak</td>\n",
              "      <td>49751.0</td>\n",
              "      <td>152.0</td>\n",
              "      <td>226.0</td>\n",
              "      <td>0</td>\n",
              "    </tr>\n",
              "    <tr>\n",
              "      <th>285829</th>\n",
              "      <td>285830</td>\n",
              "      <td>Pria</td>\n",
              "      <td>68.0</td>\n",
              "      <td>1.0</td>\n",
              "      <td>7.0</td>\n",
              "      <td>1.0</td>\n",
              "      <td>1-2 Tahun</td>\n",
              "      <td>Tidak</td>\n",
              "      <td>30503.0</td>\n",
              "      <td>124.0</td>\n",
              "      <td>270.0</td>\n",
              "      <td>0</td>\n",
              "    </tr>\n",
              "    <tr>\n",
              "      <th>285830</th>\n",
              "      <td>285831</td>\n",
              "      <td>Pria</td>\n",
              "      <td>45.0</td>\n",
              "      <td>1.0</td>\n",
              "      <td>28.0</td>\n",
              "      <td>0.0</td>\n",
              "      <td>1-2 Tahun</td>\n",
              "      <td>Pernah</td>\n",
              "      <td>36480.0</td>\n",
              "      <td>26.0</td>\n",
              "      <td>44.0</td>\n",
              "      <td>0</td>\n",
              "    </tr>\n",
              "  </tbody>\n",
              "</table>\n",
              "<p>285831 rows × 12 columns</p>\n",
              "</div>"
            ],
            "text/plain": [
              "            id Jenis_Kelamin  ...  Lama_Berlangganan  Tertarik\n",
              "0            1        Wanita  ...               97.0         0\n",
              "1            2          Pria  ...              158.0         0\n",
              "2            3           NaN  ...              119.0         0\n",
              "3            4        Wanita  ...               63.0         0\n",
              "4            5          Pria  ...              194.0         0\n",
              "...        ...           ...  ...                ...       ...\n",
              "285826  285827        Wanita  ...              217.0         0\n",
              "285827  285828        Wanita  ...               50.0         0\n",
              "285828  285829        Wanita  ...              226.0         0\n",
              "285829  285830          Pria  ...              270.0         0\n",
              "285830  285831          Pria  ...               44.0         0\n",
              "\n",
              "[285831 rows x 12 columns]"
            ]
          },
          "metadata": {
            "tags": []
          },
          "execution_count": 268
        }
      ]
    },
    {
      "cell_type": "code",
      "metadata": {
        "colab": {
          "base_uri": "https://localhost:8080/",
          "height": 402
        },
        "id": "ARi89I4gZfTZ",
        "outputId": "1e0433c5-9833-4452-ce7b-1dca9c03413b"
      },
      "source": [
        "df.drop(['id','Tertarik','Umur_Kendaraan','Kendaraan_Rusak'],axis=1,inplace=True)\n",
        "df"
      ],
      "execution_count": 269,
      "outputs": [
        {
          "output_type": "execute_result",
          "data": {
            "text/html": [
              "<div>\n",
              "<style scoped>\n",
              "    .dataframe tbody tr th:only-of-type {\n",
              "        vertical-align: middle;\n",
              "    }\n",
              "\n",
              "    .dataframe tbody tr th {\n",
              "        vertical-align: top;\n",
              "    }\n",
              "\n",
              "    .dataframe thead th {\n",
              "        text-align: right;\n",
              "    }\n",
              "</style>\n",
              "<table border=\"1\" class=\"dataframe\">\n",
              "  <thead>\n",
              "    <tr style=\"text-align: right;\">\n",
              "      <th></th>\n",
              "      <th>Jenis_Kelamin</th>\n",
              "      <th>Umur</th>\n",
              "      <th>SIM</th>\n",
              "      <th>Kode_Daerah</th>\n",
              "      <th>Sudah_Asuransi</th>\n",
              "      <th>Premi</th>\n",
              "      <th>Kanal_Penjualan</th>\n",
              "      <th>Lama_Berlangganan</th>\n",
              "    </tr>\n",
              "  </thead>\n",
              "  <tbody>\n",
              "    <tr>\n",
              "      <th>0</th>\n",
              "      <td>Wanita</td>\n",
              "      <td>30.0</td>\n",
              "      <td>1.0</td>\n",
              "      <td>33.0</td>\n",
              "      <td>1.0</td>\n",
              "      <td>28029.0</td>\n",
              "      <td>152.0</td>\n",
              "      <td>97.0</td>\n",
              "    </tr>\n",
              "    <tr>\n",
              "      <th>1</th>\n",
              "      <td>Pria</td>\n",
              "      <td>48.0</td>\n",
              "      <td>1.0</td>\n",
              "      <td>39.0</td>\n",
              "      <td>0.0</td>\n",
              "      <td>25800.0</td>\n",
              "      <td>29.0</td>\n",
              "      <td>158.0</td>\n",
              "    </tr>\n",
              "    <tr>\n",
              "      <th>2</th>\n",
              "      <td>NaN</td>\n",
              "      <td>21.0</td>\n",
              "      <td>1.0</td>\n",
              "      <td>46.0</td>\n",
              "      <td>1.0</td>\n",
              "      <td>32733.0</td>\n",
              "      <td>160.0</td>\n",
              "      <td>119.0</td>\n",
              "    </tr>\n",
              "    <tr>\n",
              "      <th>3</th>\n",
              "      <td>Wanita</td>\n",
              "      <td>58.0</td>\n",
              "      <td>1.0</td>\n",
              "      <td>48.0</td>\n",
              "      <td>0.0</td>\n",
              "      <td>2630.0</td>\n",
              "      <td>124.0</td>\n",
              "      <td>63.0</td>\n",
              "    </tr>\n",
              "    <tr>\n",
              "      <th>4</th>\n",
              "      <td>Pria</td>\n",
              "      <td>50.0</td>\n",
              "      <td>1.0</td>\n",
              "      <td>35.0</td>\n",
              "      <td>0.0</td>\n",
              "      <td>34857.0</td>\n",
              "      <td>88.0</td>\n",
              "      <td>194.0</td>\n",
              "    </tr>\n",
              "    <tr>\n",
              "      <th>...</th>\n",
              "      <td>...</td>\n",
              "      <td>...</td>\n",
              "      <td>...</td>\n",
              "      <td>...</td>\n",
              "      <td>...</td>\n",
              "      <td>...</td>\n",
              "      <td>...</td>\n",
              "      <td>...</td>\n",
              "    </tr>\n",
              "    <tr>\n",
              "      <th>285826</th>\n",
              "      <td>Wanita</td>\n",
              "      <td>23.0</td>\n",
              "      <td>1.0</td>\n",
              "      <td>4.0</td>\n",
              "      <td>1.0</td>\n",
              "      <td>25988.0</td>\n",
              "      <td>152.0</td>\n",
              "      <td>217.0</td>\n",
              "    </tr>\n",
              "    <tr>\n",
              "      <th>285827</th>\n",
              "      <td>Wanita</td>\n",
              "      <td>21.0</td>\n",
              "      <td>1.0</td>\n",
              "      <td>46.0</td>\n",
              "      <td>1.0</td>\n",
              "      <td>44686.0</td>\n",
              "      <td>152.0</td>\n",
              "      <td>50.0</td>\n",
              "    </tr>\n",
              "    <tr>\n",
              "      <th>285828</th>\n",
              "      <td>Wanita</td>\n",
              "      <td>23.0</td>\n",
              "      <td>1.0</td>\n",
              "      <td>50.0</td>\n",
              "      <td>1.0</td>\n",
              "      <td>49751.0</td>\n",
              "      <td>152.0</td>\n",
              "      <td>226.0</td>\n",
              "    </tr>\n",
              "    <tr>\n",
              "      <th>285829</th>\n",
              "      <td>Pria</td>\n",
              "      <td>68.0</td>\n",
              "      <td>1.0</td>\n",
              "      <td>7.0</td>\n",
              "      <td>1.0</td>\n",
              "      <td>30503.0</td>\n",
              "      <td>124.0</td>\n",
              "      <td>270.0</td>\n",
              "    </tr>\n",
              "    <tr>\n",
              "      <th>285830</th>\n",
              "      <td>Pria</td>\n",
              "      <td>45.0</td>\n",
              "      <td>1.0</td>\n",
              "      <td>28.0</td>\n",
              "      <td>0.0</td>\n",
              "      <td>36480.0</td>\n",
              "      <td>26.0</td>\n",
              "      <td>44.0</td>\n",
              "    </tr>\n",
              "  </tbody>\n",
              "</table>\n",
              "<p>285831 rows × 8 columns</p>\n",
              "</div>"
            ],
            "text/plain": [
              "       Jenis_Kelamin  Umur  SIM  ...    Premi  Kanal_Penjualan  Lama_Berlangganan\n",
              "0             Wanita  30.0  1.0  ...  28029.0            152.0               97.0\n",
              "1               Pria  48.0  1.0  ...  25800.0             29.0              158.0\n",
              "2                NaN  21.0  1.0  ...  32733.0            160.0              119.0\n",
              "3             Wanita  58.0  1.0  ...   2630.0            124.0               63.0\n",
              "4               Pria  50.0  1.0  ...  34857.0             88.0              194.0\n",
              "...              ...   ...  ...  ...      ...              ...                ...\n",
              "285826        Wanita  23.0  1.0  ...  25988.0            152.0              217.0\n",
              "285827        Wanita  21.0  1.0  ...  44686.0            152.0               50.0\n",
              "285828        Wanita  23.0  1.0  ...  49751.0            152.0              226.0\n",
              "285829          Pria  68.0  1.0  ...  30503.0            124.0              270.0\n",
              "285830          Pria  45.0  1.0  ...  36480.0             26.0               44.0\n",
              "\n",
              "[285831 rows x 8 columns]"
            ]
          },
          "metadata": {
            "tags": []
          },
          "execution_count": 269
        }
      ]
    },
    {
      "cell_type": "code",
      "metadata": {
        "colab": {
          "base_uri": "https://localhost:8080/"
        },
        "id": "uJJyE9PeY6di",
        "outputId": "812360e8-6a51-41f1-c297-9ca6830d61ec"
      },
      "source": [
        "df.info()"
      ],
      "execution_count": 270,
      "outputs": [
        {
          "output_type": "stream",
          "text": [
            "<class 'pandas.core.frame.DataFrame'>\n",
            "RangeIndex: 285831 entries, 0 to 285830\n",
            "Data columns (total 8 columns):\n",
            " #   Column             Non-Null Count   Dtype  \n",
            "---  ------             --------------   -----  \n",
            " 0   Jenis_Kelamin      271391 non-null  object \n",
            " 1   Umur               271617 non-null  float64\n",
            " 2   SIM                271427 non-null  float64\n",
            " 3   Kode_Daerah        271525 non-null  float64\n",
            " 4   Sudah_Asuransi     271602 non-null  float64\n",
            " 5   Premi              271262 non-null  float64\n",
            " 6   Kanal_Penjualan    271532 non-null  float64\n",
            " 7   Lama_Berlangganan  271839 non-null  float64\n",
            "dtypes: float64(7), object(1)\n",
            "memory usage: 17.4+ MB\n"
          ],
          "name": "stdout"
        }
      ]
    },
    {
      "cell_type": "code",
      "metadata": {
        "colab": {
          "base_uri": "https://localhost:8080/"
        },
        "id": "Ch8He942ZA_t",
        "outputId": "631fb2e9-4466-4efe-8920-dbf11c519f9d"
      },
      "source": [
        "df.isnull().sum()"
      ],
      "execution_count": 271,
      "outputs": [
        {
          "output_type": "execute_result",
          "data": {
            "text/plain": [
              "Jenis_Kelamin        14440\n",
              "Umur                 14214\n",
              "SIM                  14404\n",
              "Kode_Daerah          14306\n",
              "Sudah_Asuransi       14229\n",
              "Premi                14569\n",
              "Kanal_Penjualan      14299\n",
              "Lama_Berlangganan    13992\n",
              "dtype: int64"
            ]
          },
          "metadata": {
            "tags": []
          },
          "execution_count": 271
        }
      ]
    },
    {
      "cell_type": "code",
      "metadata": {
        "colab": {
          "base_uri": "https://localhost:8080/"
        },
        "id": "25JS1d9CMbur",
        "outputId": "566517da-bb32-4f60-a22a-1e7ea5eb8633"
      },
      "source": [
        "df.isna().sum()"
      ],
      "execution_count": 272,
      "outputs": [
        {
          "output_type": "execute_result",
          "data": {
            "text/plain": [
              "Jenis_Kelamin        14440\n",
              "Umur                 14214\n",
              "SIM                  14404\n",
              "Kode_Daerah          14306\n",
              "Sudah_Asuransi       14229\n",
              "Premi                14569\n",
              "Kanal_Penjualan      14299\n",
              "Lama_Berlangganan    13992\n",
              "dtype: int64"
            ]
          },
          "metadata": {
            "tags": []
          },
          "execution_count": 272
        }
      ]
    },
    {
      "cell_type": "code",
      "metadata": {
        "colab": {
          "base_uri": "https://localhost:8080/",
          "height": 402
        },
        "id": "nqlJ3iZfNQ_z",
        "outputId": "820febea-edc2-41ad-a5c0-2b3628dca9f3"
      },
      "source": [
        "Lamaberlanggan = df['Lama_Berlangganan']\n",
        "premi= df['Premi']\n",
        "\n",
        "dataclean = pd.DataFrame({\n",
        "    'Lama_Berlangganan': Lamaberlanggan,\n",
        "    'Premi' : premi,\n",
        "})\n",
        "\n",
        "datapercobaan\n"
      ],
      "execution_count": 273,
      "outputs": [
        {
          "output_type": "execute_result",
          "data": {
            "text/html": [
              "<div>\n",
              "<style scoped>\n",
              "    .dataframe tbody tr th:only-of-type {\n",
              "        vertical-align: middle;\n",
              "    }\n",
              "\n",
              "    .dataframe tbody tr th {\n",
              "        vertical-align: top;\n",
              "    }\n",
              "\n",
              "    .dataframe thead th {\n",
              "        text-align: right;\n",
              "    }\n",
              "</style>\n",
              "<table border=\"1\" class=\"dataframe\">\n",
              "  <thead>\n",
              "    <tr style=\"text-align: right;\">\n",
              "      <th></th>\n",
              "      <th>Umur</th>\n",
              "      <th>Premi</th>\n",
              "    </tr>\n",
              "  </thead>\n",
              "  <tbody>\n",
              "    <tr>\n",
              "      <th>0</th>\n",
              "      <td>10</td>\n",
              "      <td>28029.0</td>\n",
              "    </tr>\n",
              "    <tr>\n",
              "      <th>1</th>\n",
              "      <td>28</td>\n",
              "      <td>25800.0</td>\n",
              "    </tr>\n",
              "    <tr>\n",
              "      <th>2</th>\n",
              "      <td>1</td>\n",
              "      <td>32733.0</td>\n",
              "    </tr>\n",
              "    <tr>\n",
              "      <th>3</th>\n",
              "      <td>38</td>\n",
              "      <td>2630.0</td>\n",
              "    </tr>\n",
              "    <tr>\n",
              "      <th>4</th>\n",
              "      <td>30</td>\n",
              "      <td>34857.0</td>\n",
              "    </tr>\n",
              "    <tr>\n",
              "      <th>...</th>\n",
              "      <td>...</td>\n",
              "      <td>...</td>\n",
              "    </tr>\n",
              "    <tr>\n",
              "      <th>285826</th>\n",
              "      <td>3</td>\n",
              "      <td>25988.0</td>\n",
              "    </tr>\n",
              "    <tr>\n",
              "      <th>285827</th>\n",
              "      <td>1</td>\n",
              "      <td>44686.0</td>\n",
              "    </tr>\n",
              "    <tr>\n",
              "      <th>285828</th>\n",
              "      <td>3</td>\n",
              "      <td>49751.0</td>\n",
              "    </tr>\n",
              "    <tr>\n",
              "      <th>285829</th>\n",
              "      <td>48</td>\n",
              "      <td>30503.0</td>\n",
              "    </tr>\n",
              "    <tr>\n",
              "      <th>285830</th>\n",
              "      <td>25</td>\n",
              "      <td>36480.0</td>\n",
              "    </tr>\n",
              "  </tbody>\n",
              "</table>\n",
              "<p>285831 rows × 2 columns</p>\n",
              "</div>"
            ],
            "text/plain": [
              "        Umur    Premi\n",
              "0         10  28029.0\n",
              "1         28  25800.0\n",
              "2          1  32733.0\n",
              "3         38   2630.0\n",
              "4         30  34857.0\n",
              "...      ...      ...\n",
              "285826     3  25988.0\n",
              "285827     1  44686.0\n",
              "285828     3  49751.0\n",
              "285829    48  30503.0\n",
              "285830    25  36480.0\n",
              "\n",
              "[285831 rows x 2 columns]"
            ]
          },
          "metadata": {
            "tags": []
          },
          "execution_count": 273
        }
      ]
    },
    {
      "cell_type": "code",
      "metadata": {
        "colab": {
          "base_uri": "https://localhost:8080/"
        },
        "id": "KcFTqQrtPT6i",
        "outputId": "4e6d777b-a0ba-4bfb-f13e-f3601c62a766"
      },
      "source": [
        "datakosong = df.isnull()\n",
        "for column in datakosong.columns.values.tolist():\n",
        "  print(column)\n",
        "  print(datakosong[column].value_counts())\n",
        "  print(\"\")"
      ],
      "execution_count": 274,
      "outputs": [
        {
          "output_type": "stream",
          "text": [
            "Jenis_Kelamin\n",
            "False    271391\n",
            "True      14440\n",
            "Name: Jenis_Kelamin, dtype: int64\n",
            "\n",
            "Umur\n",
            "False    271617\n",
            "True      14214\n",
            "Name: Umur, dtype: int64\n",
            "\n",
            "SIM\n",
            "False    271427\n",
            "True      14404\n",
            "Name: SIM, dtype: int64\n",
            "\n",
            "Kode_Daerah\n",
            "False    271525\n",
            "True      14306\n",
            "Name: Kode_Daerah, dtype: int64\n",
            "\n",
            "Sudah_Asuransi\n",
            "False    271602\n",
            "True      14229\n",
            "Name: Sudah_Asuransi, dtype: int64\n",
            "\n",
            "Premi\n",
            "False    271262\n",
            "True      14569\n",
            "Name: Premi, dtype: int64\n",
            "\n",
            "Kanal_Penjualan\n",
            "False    271532\n",
            "True      14299\n",
            "Name: Kanal_Penjualan, dtype: int64\n",
            "\n",
            "Lama_Berlangganan\n",
            "False    271839\n",
            "True      13992\n",
            "Name: Lama_Berlangganan, dtype: int64\n",
            "\n"
          ],
          "name": "stdout"
        }
      ]
    },
    {
      "cell_type": "code",
      "metadata": {
        "colab": {
          "base_uri": "https://localhost:8080/"
        },
        "id": "qb06ZYGGQiGc",
        "outputId": "2a7e882e-66d9-4d70-ca58-321e867c8543"
      },
      "source": [
        "df['Jenis_Kelamin'].mode()\n",
        "df['Umur'].mode()\n",
        "df['SIM'].mode()\n",
        "df['Sudah_Asuransi'].mode()\n",
        "df['Kanal_Penjualan'].mode()\n",
        "df['Kode_Daerah'].mode()\n",
        "df['Premi'].mode()\n",
        "df['Lama_Berlangganan'].mode()"
      ],
      "execution_count": 275,
      "outputs": [
        {
          "output_type": "execute_result",
          "data": {
            "text/plain": [
              "0    158.0\n",
              "dtype: float64"
            ]
          },
          "metadata": {
            "tags": []
          },
          "execution_count": 275
        }
      ]
    },
    {
      "cell_type": "code",
      "metadata": {
        "id": "gNr6RldJRSSq"
      },
      "source": [
        "df['Jenis_Kelamin'].replace(np.nan,\"Pria\", inplace=True)\n",
        "df['Umur'].replace(np.nan,\"25\",inplace = True)\n",
        "df['Kode_Daerah'].replace(np.nan,'28.0',inplace=True)\n",
        "df['SIM'].replace(np.nan,'1.0',inplace=True)\n",
        "df['Sudah_Asuransi'].replace(np.nan,'0.0',inplace=True)"
      ],
      "execution_count": 276,
      "outputs": []
    },
    {
      "cell_type": "code",
      "metadata": {
        "id": "JjtVGv8HT0Tj"
      },
      "source": [
        "rkanal = df['Kanal_Penjualan'].astype('float').mean(axis=0)\n",
        "rpremi = df['Premi'].astype('float').mean(axis=0)\n",
        "rlangganan = df['Lama_Berlangganan'].astype('float').mean(axis=0)\n",
        "\n",
        "df['Kanal_Penjualan'].replace(np.nan,rkanal,inplace=True)\n",
        "df['Premi'].replace(np.nan,rpremi,inplace=True)\n",
        "df['Lama_Berlangganan'].replace(np.nan,rkanal,inplace=True)"
      ],
      "execution_count": 277,
      "outputs": []
    },
    {
      "cell_type": "code",
      "metadata": {
        "colab": {
          "base_uri": "https://localhost:8080/"
        },
        "id": "EFk8dKWZU3Qk",
        "outputId": "da0527c8-9601-4122-cf2d-440fe1054e2c"
      },
      "source": [
        "datakosong = df.isnull()\n",
        "for column in datakosong.columns.values.tolist():\n",
        "  print(column)\n",
        "  print(datakosong[column].value_counts())\n",
        "  print(\"\")"
      ],
      "execution_count": 278,
      "outputs": [
        {
          "output_type": "stream",
          "text": [
            "Jenis_Kelamin\n",
            "False    285831\n",
            "Name: Jenis_Kelamin, dtype: int64\n",
            "\n",
            "Umur\n",
            "False    285831\n",
            "Name: Umur, dtype: int64\n",
            "\n",
            "SIM\n",
            "False    285831\n",
            "Name: SIM, dtype: int64\n",
            "\n",
            "Kode_Daerah\n",
            "False    285831\n",
            "Name: Kode_Daerah, dtype: int64\n",
            "\n",
            "Sudah_Asuransi\n",
            "False    285831\n",
            "Name: Sudah_Asuransi, dtype: int64\n",
            "\n",
            "Premi\n",
            "False    285831\n",
            "Name: Premi, dtype: int64\n",
            "\n",
            "Kanal_Penjualan\n",
            "False    285831\n",
            "Name: Kanal_Penjualan, dtype: int64\n",
            "\n",
            "Lama_Berlangganan\n",
            "False    285831\n",
            "Name: Lama_Berlangganan, dtype: int64\n",
            "\n"
          ],
          "name": "stdout"
        }
      ]
    },
    {
      "cell_type": "code",
      "metadata": {
        "id": "omYvHrbpVBuV"
      },
      "source": [
        "objek =df.select_dtypes(['object']).columns\n",
        "category = df.select_dtypes(['category']).columns\n",
        "df[objek]=df[objek].apply(lambda x:x.astype('category'))"
      ],
      "execution_count": 279,
      "outputs": []
    },
    {
      "cell_type": "code",
      "metadata": {
        "colab": {
          "base_uri": "https://localhost:8080/"
        },
        "id": "1d6NAimDWlBl",
        "outputId": "b02a02a7-1f08-4ebe-baf8-583ca7635fbc"
      },
      "source": [
        "df.info()"
      ],
      "execution_count": 280,
      "outputs": [
        {
          "output_type": "stream",
          "text": [
            "<class 'pandas.core.frame.DataFrame'>\n",
            "RangeIndex: 285831 entries, 0 to 285830\n",
            "Data columns (total 8 columns):\n",
            " #   Column             Non-Null Count   Dtype   \n",
            "---  ------             --------------   -----   \n",
            " 0   Jenis_Kelamin      285831 non-null  category\n",
            " 1   Umur               285831 non-null  category\n",
            " 2   SIM                285831 non-null  category\n",
            " 3   Kode_Daerah        285831 non-null  category\n",
            " 4   Sudah_Asuransi     285831 non-null  category\n",
            " 5   Premi              285831 non-null  float64 \n",
            " 6   Kanal_Penjualan    285831 non-null  float64 \n",
            " 7   Lama_Berlangganan  285831 non-null  float64 \n",
            "dtypes: category(5), float64(3)\n",
            "memory usage: 7.9 MB\n"
          ],
          "name": "stdout"
        }
      ]
    },
    {
      "cell_type": "code",
      "metadata": {
        "id": "UY3X8AKtWu6n"
      },
      "source": [
        "df[objek]=df[objek].apply(lambda x:x.cat.codes)\n",
        "df[category]=df[category].apply(lambda x:x.cat.codes)"
      ],
      "execution_count": 281,
      "outputs": []
    },
    {
      "cell_type": "code",
      "metadata": {
        "colab": {
          "base_uri": "https://localhost:8080/",
          "height": 195
        },
        "id": "ZMSABvcEXKXU",
        "outputId": "15ae9b33-954a-4911-a491-4f48387992fe"
      },
      "source": [
        "df.head()"
      ],
      "execution_count": 282,
      "outputs": [
        {
          "output_type": "execute_result",
          "data": {
            "text/html": [
              "<div>\n",
              "<style scoped>\n",
              "    .dataframe tbody tr th:only-of-type {\n",
              "        vertical-align: middle;\n",
              "    }\n",
              "\n",
              "    .dataframe tbody tr th {\n",
              "        vertical-align: top;\n",
              "    }\n",
              "\n",
              "    .dataframe thead th {\n",
              "        text-align: right;\n",
              "    }\n",
              "</style>\n",
              "<table border=\"1\" class=\"dataframe\">\n",
              "  <thead>\n",
              "    <tr style=\"text-align: right;\">\n",
              "      <th></th>\n",
              "      <th>Jenis_Kelamin</th>\n",
              "      <th>Umur</th>\n",
              "      <th>SIM</th>\n",
              "      <th>Kode_Daerah</th>\n",
              "      <th>Sudah_Asuransi</th>\n",
              "      <th>Premi</th>\n",
              "      <th>Kanal_Penjualan</th>\n",
              "      <th>Lama_Berlangganan</th>\n",
              "    </tr>\n",
              "  </thead>\n",
              "  <tbody>\n",
              "    <tr>\n",
              "      <th>0</th>\n",
              "      <td>1</td>\n",
              "      <td>10</td>\n",
              "      <td>1</td>\n",
              "      <td>33</td>\n",
              "      <td>1</td>\n",
              "      <td>28029.0</td>\n",
              "      <td>152.0</td>\n",
              "      <td>97.0</td>\n",
              "    </tr>\n",
              "    <tr>\n",
              "      <th>1</th>\n",
              "      <td>0</td>\n",
              "      <td>28</td>\n",
              "      <td>1</td>\n",
              "      <td>39</td>\n",
              "      <td>0</td>\n",
              "      <td>25800.0</td>\n",
              "      <td>29.0</td>\n",
              "      <td>158.0</td>\n",
              "    </tr>\n",
              "    <tr>\n",
              "      <th>2</th>\n",
              "      <td>0</td>\n",
              "      <td>1</td>\n",
              "      <td>1</td>\n",
              "      <td>46</td>\n",
              "      <td>1</td>\n",
              "      <td>32733.0</td>\n",
              "      <td>160.0</td>\n",
              "      <td>119.0</td>\n",
              "    </tr>\n",
              "    <tr>\n",
              "      <th>3</th>\n",
              "      <td>1</td>\n",
              "      <td>38</td>\n",
              "      <td>1</td>\n",
              "      <td>48</td>\n",
              "      <td>0</td>\n",
              "      <td>2630.0</td>\n",
              "      <td>124.0</td>\n",
              "      <td>63.0</td>\n",
              "    </tr>\n",
              "    <tr>\n",
              "      <th>4</th>\n",
              "      <td>0</td>\n",
              "      <td>30</td>\n",
              "      <td>1</td>\n",
              "      <td>35</td>\n",
              "      <td>0</td>\n",
              "      <td>34857.0</td>\n",
              "      <td>88.0</td>\n",
              "      <td>194.0</td>\n",
              "    </tr>\n",
              "  </tbody>\n",
              "</table>\n",
              "</div>"
            ],
            "text/plain": [
              "   Jenis_Kelamin  Umur  SIM  ...    Premi  Kanal_Penjualan  Lama_Berlangganan\n",
              "0              1    10    1  ...  28029.0            152.0               97.0\n",
              "1              0    28    1  ...  25800.0             29.0              158.0\n",
              "2              0     1    1  ...  32733.0            160.0              119.0\n",
              "3              1    38    1  ...   2630.0            124.0               63.0\n",
              "4              0    30    1  ...  34857.0             88.0              194.0\n",
              "\n",
              "[5 rows x 8 columns]"
            ]
          },
          "metadata": {
            "tags": []
          },
          "execution_count": 282
        }
      ]
    },
    {
      "cell_type": "code",
      "metadata": {
        "colab": {
          "base_uri": "https://localhost:8080/",
          "height": 402
        },
        "id": "qc0aB2g4XVU3",
        "outputId": "fac72961-cb65-4b6e-93d8-bc843011ecd6"
      },
      "source": [
        "Lamaberlanggan = df['Lama_Berlangganan']\n",
        "premi = df['Premi']\n",
        "\n",
        "datacluster = pd.DataFrame({\n",
        "    'Lama_Berlangganan' : Lamaberlanggan,\n",
        "    'Premi' : premi,    \n",
        "})\n",
        "\n",
        "dataOut = datacluster\n",
        "datacluster"
      ],
      "execution_count": 283,
      "outputs": [
        {
          "output_type": "execute_result",
          "data": {
            "text/html": [
              "<div>\n",
              "<style scoped>\n",
              "    .dataframe tbody tr th:only-of-type {\n",
              "        vertical-align: middle;\n",
              "    }\n",
              "\n",
              "    .dataframe tbody tr th {\n",
              "        vertical-align: top;\n",
              "    }\n",
              "\n",
              "    .dataframe thead th {\n",
              "        text-align: right;\n",
              "    }\n",
              "</style>\n",
              "<table border=\"1\" class=\"dataframe\">\n",
              "  <thead>\n",
              "    <tr style=\"text-align: right;\">\n",
              "      <th></th>\n",
              "      <th>Lama_Berlangganan</th>\n",
              "      <th>Premi</th>\n",
              "    </tr>\n",
              "  </thead>\n",
              "  <tbody>\n",
              "    <tr>\n",
              "      <th>0</th>\n",
              "      <td>97.0</td>\n",
              "      <td>28029.0</td>\n",
              "    </tr>\n",
              "    <tr>\n",
              "      <th>1</th>\n",
              "      <td>158.0</td>\n",
              "      <td>25800.0</td>\n",
              "    </tr>\n",
              "    <tr>\n",
              "      <th>2</th>\n",
              "      <td>119.0</td>\n",
              "      <td>32733.0</td>\n",
              "    </tr>\n",
              "    <tr>\n",
              "      <th>3</th>\n",
              "      <td>63.0</td>\n",
              "      <td>2630.0</td>\n",
              "    </tr>\n",
              "    <tr>\n",
              "      <th>4</th>\n",
              "      <td>194.0</td>\n",
              "      <td>34857.0</td>\n",
              "    </tr>\n",
              "    <tr>\n",
              "      <th>...</th>\n",
              "      <td>...</td>\n",
              "      <td>...</td>\n",
              "    </tr>\n",
              "    <tr>\n",
              "      <th>285826</th>\n",
              "      <td>217.0</td>\n",
              "      <td>25988.0</td>\n",
              "    </tr>\n",
              "    <tr>\n",
              "      <th>285827</th>\n",
              "      <td>50.0</td>\n",
              "      <td>44686.0</td>\n",
              "    </tr>\n",
              "    <tr>\n",
              "      <th>285828</th>\n",
              "      <td>226.0</td>\n",
              "      <td>49751.0</td>\n",
              "    </tr>\n",
              "    <tr>\n",
              "      <th>285829</th>\n",
              "      <td>270.0</td>\n",
              "      <td>30503.0</td>\n",
              "    </tr>\n",
              "    <tr>\n",
              "      <th>285830</th>\n",
              "      <td>44.0</td>\n",
              "      <td>36480.0</td>\n",
              "    </tr>\n",
              "  </tbody>\n",
              "</table>\n",
              "<p>285831 rows × 2 columns</p>\n",
              "</div>"
            ],
            "text/plain": [
              "        Lama_Berlangganan    Premi\n",
              "0                    97.0  28029.0\n",
              "1                   158.0  25800.0\n",
              "2                   119.0  32733.0\n",
              "3                    63.0   2630.0\n",
              "4                   194.0  34857.0\n",
              "...                   ...      ...\n",
              "285826              217.0  25988.0\n",
              "285827               50.0  44686.0\n",
              "285828              226.0  49751.0\n",
              "285829              270.0  30503.0\n",
              "285830               44.0  36480.0\n",
              "\n",
              "[285831 rows x 2 columns]"
            ]
          },
          "metadata": {
            "tags": []
          },
          "execution_count": 283
        }
      ]
    },
    {
      "cell_type": "code",
      "metadata": {
        "colab": {
          "base_uri": "https://localhost:8080/",
          "height": 269
        },
        "id": "utKYcLREYQLQ",
        "outputId": "b091d7af-bd83-43e7-9cc4-eea3d887fd97"
      },
      "source": [
        "def cekout(data):\n",
        "  plt.figure(figsize=(60,60))\n",
        "  f , axes = plt.subplots(1,2)\n",
        "  sns.boxplot(y= data['Lama_Berlangganan'],ax=axes[0],color='blue')\n",
        "  sns.boxplot(y= data['Premi'],ax=axes[1],color='Red')\n",
        "  plt.subplots_adjust(wspace=1)\n",
        "\n",
        "cekout(datacluster)"
      ],
      "execution_count": 284,
      "outputs": [
        {
          "output_type": "display_data",
          "data": {
            "text/plain": [
              "<Figure size 4320x4320 with 0 Axes>"
            ]
          },
          "metadata": {
            "tags": []
          }
        },
        {
          "output_type": "display_data",
          "data": {
            "image/png": "[encoded data removed]",
            "text/plain": [
              "<Figure size 432x288 with 2 Axes>"
            ]
          },
          "metadata": {
            "tags": [],
            "needs_background": "light"
          }
        }
      ]
    },
    {
      "cell_type": "code",
      "metadata": {
        "colab": {
          "base_uri": "https://localhost:8080/"
        },
        "id": "K9n6a1Gra1ud",
        "outputId": "a0408ed0-94e7-4c67-ca69-a521938811c8"
      },
      "source": [
        "while True:\n",
        "  Q1, Q3 = np.percentile(df['Premi'],[25,75])\n",
        "  IQR = Q3 - Q1\n",
        "  lower = Q1 - (1.5 * IQR)\n",
        "  upper = Q3 + (1.5 * IQR)\n",
        "  outlo = df[(df['Premi'] < (lower)) | (df['Premi'] > (upper))]\n",
        "  print('jumlah outlier data', outlo.shape[0])\n",
        "  idxlo = outlo.index\n",
        "  df.drop(idxlo, inplace=True)\n",
        "  if (outlo.shape[0] <= 0):\n",
        "    break\n",
        "\n",
        "df['Premi'].describe()"
      ],
      "execution_count": 285,
      "outputs": [
        {
          "output_type": "stream",
          "text": [
            "jumlah outlier data 55141\n",
            "jumlah outlier data 3626\n",
            "jumlah outlier data 1173\n",
            "jumlah outlier data 385\n",
            "jumlah outlier data 133\n",
            "jumlah outlier data 52\n",
            "jumlah outlier data 19\n",
            "jumlah outlier data 13\n",
            "jumlah outlier data 2\n",
            "jumlah outlier data 0\n"
          ],
          "name": "stdout"
        },
        {
          "output_type": "execute_result",
          "data": {
            "text/plain": [
              "count    225287.000000\n",
              "mean      33926.733595\n",
              "std        7886.724909\n",
              "min       12811.000000\n",
              "25%       28493.000000\n",
              "50%       32496.000000\n",
              "75%       38971.500000\n",
              "max       54689.000000\n",
              "Name: Premi, dtype: float64"
            ]
          },
          "metadata": {
            "tags": []
          },
          "execution_count": 285
        }
      ]
    },
    {
      "cell_type": "code",
      "metadata": {
        "colab": {
          "base_uri": "https://localhost:8080/",
          "height": 269
        },
        "id": "3R7V9l4zeU0j",
        "outputId": "4f326a26-4f01-4bd6-8f94-a65937926b1e"
      },
      "source": [
        "def cekout_en(data):\n",
        "  plt.figure(figsize=(60,60))\n",
        "  f, axes = plt.subplots(1,2)\n",
        "  sns.boxplot(y= data['Lama_Berlangganan'],ax=axes[0],color='blue')\n",
        "  sns.boxplot(y= data['Premi'],ax=axes[1],color='Red')\n",
        "  plt.subplots_adjust(wspace=1)\n",
        "\n",
        "cekout_en(datacluster)"
      ],
      "execution_count": 286,
      "outputs": [
        {
          "output_type": "display_data",
          "data": {
            "text/plain": [
              "<Figure size 4320x4320 with 0 Axes>"
            ]
          },
          "metadata": {
            "tags": []
          }
        },
        {
          "output_type": "display_data",
          "data": {
            "image/png": "[encoded data removed]",
            "text/plain": [
              "<Figure size 432x288 with 2 Axes>"
            ]
          },
          "metadata": {
            "tags": [],
            "needs_background": "light"
          }
        }
      ]
    },
    {
      "cell_type": "code",
      "metadata": {
        "colab": {
          "base_uri": "https://localhost:8080/"
        },
        "id": "xKbBll3xfPC3",
        "outputId": "640f16e8-8dc2-46b7-90b6-8fb1dbed6166"
      },
      "source": [
        "from sklearn.preprocessing import StandardScaler\n",
        "\n",
        "normalize = StandardScaler()\n",
        "df = normalize.fit_transform(datacluster)\n",
        "\n",
        "df"
      ],
      "execution_count": 287,
      "outputs": [
        {
          "output_type": "execute_result",
          "data": {
            "text/plain": [
              "array([[-0.67232958, -0.15005241],\n",
              "       [ 0.07040976, -0.28342921],\n",
              "       [-0.40445637,  0.13142112],\n",
              "       ...,\n",
              "       [ 0.89838148,  1.1497282 ],\n",
              "       [ 1.43412789, -0.00201552],\n",
              "       [-1.31766048,  0.35563058]])"
            ]
          },
          "metadata": {
            "tags": []
          },
          "execution_count": 287
        }
      ]
    },
    {
      "cell_type": "code",
      "metadata": {
        "colab": {
          "base_uri": "https://localhost:8080/",
          "height": 265
        },
        "id": "qYxUUVpxfoMi",
        "outputId": "df4673bc-20d3-48ba-9e7f-407914cd8068"
      },
      "source": [
        "plt.scatter(df[:,0],df[:,1],color = 'red',label='unclustered data')\n",
        "plt.show()"
      ],
      "execution_count": 288,
      "outputs": [
        {
          "output_type": "display_data",
          "data": {
            "image/png": "[encoded data removed]",
            "text/plain": [
              "<Figure size 432x288 with 1 Axes>"
            ]
          },
          "metadata": {
            "tags": [],
            "needs_background": "light"
          }
        }
      ]
    },
    {
      "cell_type": "code",
      "metadata": {
        "id": "C0BoUT4lgImh"
      },
      "source": [
        "def k_means(x,k, no_iteration):\n",
        "  idx = np.random.choice(len(x),k)\n",
        "  EucledianDistance = np.array([]).reshape(x.shape[0],0)\n",
        "  centroids = x[idx,:]\n",
        "\n",
        "  for i in range(k):\n",
        "    temp0ust = np.sum((x-centroids[i])**2,axis = 1)\n",
        "    EucledianDistance= np.c_[EuclideanDistance, temp0ist]\n",
        "\n",
        "  points = np.array([np.argmin(1) for i in EucledianDistance])\n",
        "\n",
        "  for _ in range(no_iteration):\n",
        "    centroids = []\n",
        "    EuclideanDistance = np.array([]).reshape(x.shape[0],0)\n",
        "    for idx in range (k):\n",
        "      temp_cent=x[points==idx].mean(axis=0)\n",
        "      centroids.append(temp_cent)\n",
        "\n",
        "    centroids = np.vstack(centroids)\n",
        "\n",
        "    for i in range(k):\n",
        "      temp0ist = np.sum((x-centroids[i])**2,axis =1)\n",
        "      EuclideanDistance = np.c_[EuclideanDistance,temp0ist]\n",
        "\n",
        "    points = np.array([np.argmin(i) for i in EuclideanDistance])\n",
        "\n",
        "  return points,controls"
      ],
      "execution_count": 289,
      "outputs": []
    },
    {
      "cell_type": "code",
      "metadata": {
        "id": "5uv73NFwnCta",
        "colab": {
          "base_uri": "https://localhost:8080/",
          "height": 279
        },
        "outputId": "da934127-eb91-4abe-d941-8e0a4a97726e"
      },
      "source": [
        "from sklearn.cluster import KMeans\n",
        "Sillhouete = []\n",
        "K = range(1,10)\n",
        "for k in K:\n",
        "  kmeanModel = KMeans (n_clusters=k, max_iter = 300)\n",
        "  kmeanModel.fit(df)\n",
        "  distortion.append(kmeanModel.inertia_)\n",
        "\n",
        "plt.plot(K,Sillhouete, 'bx-')\n",
        "plt.xlabel('k')\n",
        "plt.ylabel('Sillhouete')\n",
        "plt.show()"
      ],
      "execution_count": 290,
      "outputs": [
        {
          "output_type": "display_data",
          "data": {
            "image/png": "[encoded data removed]",
            "text/plain": [
              "<Figure size 432x288 with 1 Axes>"
            ]
          },
          "metadata": {
            "tags": [],
            "needs_background": "light"
          }
        }
      ]
    }
  ]
}